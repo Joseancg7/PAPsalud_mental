{
 "cells": [
  {
   "cell_type": "markdown",
   "id": "19a744fe",
   "metadata": {},
   "source": [
    "https://pandas-profiling.github.io/pandas-profiling/docs/master/rtd/pages/announcements.html\n",
    "\n",
    "https://stackoverflow.com/questions/49314314/unable-to-import-pandas-profiling"
   ]
  },
  {
   "cell_type": "code",
   "execution_count": 2,
   "id": "963332d2",
   "metadata": {},
   "outputs": [
    {
     "name": "stdout",
     "output_type": "stream",
     "text": [
      "Collecting package metadata (current_repodata.json): done\n",
      "Solving environment: done\n",
      "\n",
      "# All requested packages already installed.\n",
      "\n",
      "\n",
      "Note: you may need to restart the kernel to use updated packages.\n"
     ]
    }
   ],
   "source": [
    "conda install -c conda-forge pandas-profiling"
   ]
  },
  {
   "cell_type": "code",
   "execution_count": 1,
   "id": "086c9778",
   "metadata": {},
   "outputs": [
    {
     "name": "stdout",
     "output_type": "stream",
     "text": [
      "Collecting pandas-profiling\n",
      "  Downloading pandas_profiling-3.1.0-py2.py3-none-any.whl (261 kB)\n",
      "     |████████████████████████████████| 261 kB 1.6 MB/s            \n",
      "\u001b[?25hRequirement already satisfied: requests>=2.24.0 in /Users/josean/opt/anaconda3/lib/python3.8/site-packages (from pandas-profiling) (2.26.0)\n",
      "Requirement already satisfied: PyYAML>=5.0.0 in /Users/josean/opt/anaconda3/lib/python3.8/site-packages (from pandas-profiling) (5.4.1)\n",
      "Requirement already satisfied: joblib~=1.0.1 in /Users/josean/opt/anaconda3/lib/python3.8/site-packages (from pandas-profiling) (1.0.1)\n",
      "Collecting phik>=0.11.1\n",
      "  Downloading phik-0.12.0-cp38-cp38-macosx_10_13_x86_64.whl (653 kB)\n",
      "     |████████████████████████████████| 653 kB 9.2 MB/s            \n",
      "\u001b[?25hRequirement already satisfied: seaborn>=0.10.1 in /Users/josean/opt/anaconda3/lib/python3.8/site-packages (from pandas-profiling) (0.11.2)\n",
      "Collecting visions[type_image_path]==0.7.4\n",
      "  Downloading visions-0.7.4-py3-none-any.whl (102 kB)\n",
      "     |████████████████████████████████| 102 kB 15.9 MB/s           \n",
      "\u001b[?25hRequirement already satisfied: scipy>=1.4.1 in /Users/josean/opt/anaconda3/lib/python3.8/site-packages (from pandas-profiling) (1.6.2)\n",
      "Collecting markupsafe~=2.0.1\n",
      "  Downloading MarkupSafe-2.0.1-cp38-cp38-macosx_10_9_x86_64.whl (13 kB)\n",
      "Collecting htmlmin>=0.1.12\n",
      "  Downloading htmlmin-0.1.12.tar.gz (19 kB)\n",
      "  Preparing metadata (setup.py) ... \u001b[?25ldone\n",
      "\u001b[?25hCollecting multimethod>=1.4\n",
      "  Downloading multimethod-1.6-py3-none-any.whl (9.4 kB)\n",
      "Collecting pydantic>=1.8.1\n",
      "  Downloading pydantic-1.8.2-cp38-cp38-macosx_10_9_x86_64.whl (2.6 MB)\n",
      "     |████████████████████████████████| 2.6 MB 22.5 MB/s            \n",
      "\u001b[?25hRequirement already satisfied: numpy>=1.16.0 in /Users/josean/opt/anaconda3/lib/python3.8/site-packages (from pandas-profiling) (1.20.3)\n",
      "Requirement already satisfied: pandas!=1.0.0,!=1.0.1,!=1.0.2,!=1.1.0,>=0.25.3 in /Users/josean/opt/anaconda3/lib/python3.8/site-packages (from pandas-profiling) (1.3.2)\n",
      "Requirement already satisfied: matplotlib>=3.2.0 in /Users/josean/opt/anaconda3/lib/python3.8/site-packages (from pandas-profiling) (3.4.2)\n",
      "Collecting missingno>=0.4.2\n",
      "  Downloading missingno-0.5.0-py3-none-any.whl (8.8 kB)\n",
      "Requirement already satisfied: tqdm>=4.48.2 in /Users/josean/opt/anaconda3/lib/python3.8/site-packages (from pandas-profiling) (4.62.1)\n",
      "Requirement already satisfied: jinja2>=2.11.1 in /Users/josean/opt/anaconda3/lib/python3.8/site-packages (from pandas-profiling) (2.11.3)\n",
      "Collecting tangled-up-in-unicode==0.1.0\n",
      "  Downloading tangled_up_in_unicode-0.1.0-py3-none-any.whl (3.1 MB)\n",
      "     |████████████████████████████████| 3.1 MB 29.7 MB/s            \n",
      "\u001b[?25hRequirement already satisfied: attrs>=19.3.0 in /Users/josean/opt/anaconda3/lib/python3.8/site-packages (from visions[type_image_path]==0.7.4->pandas-profiling) (21.2.0)\n",
      "Requirement already satisfied: networkx>=2.4 in /Users/josean/opt/anaconda3/lib/python3.8/site-packages (from visions[type_image_path]==0.7.4->pandas-profiling) (2.6.2)\n",
      "Requirement already satisfied: Pillow in /Users/josean/opt/anaconda3/lib/python3.8/site-packages (from visions[type_image_path]==0.7.4->pandas-profiling) (8.3.1)\n",
      "Collecting imagehash\n",
      "  Downloading ImageHash-4.2.1.tar.gz (812 kB)\n",
      "     |████████████████████████████████| 812 kB 13.4 MB/s            \n",
      "\u001b[?25h  Preparing metadata (setup.py) ... \u001b[?25ldone\n",
      "\u001b[?25hRequirement already satisfied: kiwisolver>=1.0.1 in /Users/josean/opt/anaconda3/lib/python3.8/site-packages (from matplotlib>=3.2.0->pandas-profiling) (1.3.1)\n",
      "Requirement already satisfied: cycler>=0.10 in /Users/josean/opt/anaconda3/lib/python3.8/site-packages (from matplotlib>=3.2.0->pandas-profiling) (0.10.0)\n",
      "Requirement already satisfied: pyparsing>=2.2.1 in /Users/josean/opt/anaconda3/lib/python3.8/site-packages (from matplotlib>=3.2.0->pandas-profiling) (2.4.7)\n",
      "Requirement already satisfied: python-dateutil>=2.7 in /Users/josean/opt/anaconda3/lib/python3.8/site-packages (from matplotlib>=3.2.0->pandas-profiling) (2.8.2)\n",
      "Requirement already satisfied: pytz>=2017.3 in /Users/josean/opt/anaconda3/lib/python3.8/site-packages (from pandas!=1.0.0,!=1.0.1,!=1.0.2,!=1.1.0,>=0.25.3->pandas-profiling) (2021.1)\n",
      "Requirement already satisfied: typing-extensions>=3.7.4.3 in /Users/josean/opt/anaconda3/lib/python3.8/site-packages (from pydantic>=1.8.1->pandas-profiling) (3.10.0.0)\n",
      "Requirement already satisfied: urllib3<1.27,>=1.21.1 in /Users/josean/opt/anaconda3/lib/python3.8/site-packages (from requests>=2.24.0->pandas-profiling) (1.26.6)\n",
      "Requirement already satisfied: charset-normalizer~=2.0.0 in /Users/josean/opt/anaconda3/lib/python3.8/site-packages (from requests>=2.24.0->pandas-profiling) (2.0.4)\n",
      "Requirement already satisfied: idna<4,>=2.5 in /Users/josean/opt/anaconda3/lib/python3.8/site-packages (from requests>=2.24.0->pandas-profiling) (3.2)\n",
      "Requirement already satisfied: certifi>=2017.4.17 in /Users/josean/opt/anaconda3/lib/python3.8/site-packages (from requests>=2.24.0->pandas-profiling) (2021.10.8)\n",
      "Requirement already satisfied: six in /Users/josean/opt/anaconda3/lib/python3.8/site-packages (from cycler>=0.10->matplotlib>=3.2.0->pandas-profiling) (1.16.0)\n",
      "Requirement already satisfied: PyWavelets in /Users/josean/opt/anaconda3/lib/python3.8/site-packages (from imagehash->visions[type_image_path]==0.7.4->pandas-profiling) (1.1.1)\n",
      "Building wheels for collected packages: htmlmin, imagehash\n",
      "  Building wheel for htmlmin (setup.py) ... \u001b[?25ldone\n",
      "\u001b[?25h  Created wheel for htmlmin: filename=htmlmin-0.1.12-py3-none-any.whl size=27085 sha256=2312c14f2e54ce870c2d2391eff4c0f143d42cdd902bfedd6aa0860f020dc5b8\n",
      "  Stored in directory: /Users/josean/Library/Caches/pip/wheels/23/14/6e/4be5bfeeb027f4939a01764b48edd5996acf574b0913fe5243\n",
      "  Building wheel for imagehash (setup.py) ... \u001b[?25ldone\n",
      "\u001b[?25h  Created wheel for imagehash: filename=ImageHash-4.2.1-py2.py3-none-any.whl size=295197 sha256=13395a95f4941400f90c2f614da6f851866c59aadc4e291d022c452bdee96f59\n",
      "  Stored in directory: /Users/josean/Library/Caches/pip/wheels/48/a1/7f/096c1269d6bf78d4768180602579b35a1e8cb1250bb4b40c74\n",
      "Successfully built htmlmin imagehash\n",
      "Installing collected packages: tangled-up-in-unicode, multimethod, visions, markupsafe, imagehash, pydantic, phik, missingno, htmlmin, pandas-profiling\n",
      "  Attempting uninstall: markupsafe\n",
      "    Found existing installation: MarkupSafe 1.1.1\n",
      "    Uninstalling MarkupSafe-1.1.1:\n",
      "      Successfully uninstalled MarkupSafe-1.1.1\n",
      "\u001b[31mERROR: pip's dependency resolver does not currently take into account all the packages that are installed. This behaviour is the source of the following dependency conflicts.\n",
      "anaconda-project 0.10.1 requires ruamel-yaml, which is not installed.\n",
      "cookiecutter 1.7.2 requires MarkupSafe<2.0.0, but you have markupsafe 2.0.1 which is incompatible.\u001b[0m\n",
      "Successfully installed htmlmin-0.1.12 imagehash-4.2.1 markupsafe-2.0.1 missingno-0.5.0 multimethod-1.6 pandas-profiling-3.1.0 phik-0.12.0 pydantic-1.8.2 tangled-up-in-unicode-0.1.0 visions-0.7.4\n"
     ]
    }
   ],
   "source": [
    "import sys\n",
    "!{sys.executable} -m pip install pandas-profiling"
   ]
  },
  {
   "cell_type": "code",
   "execution_count": 5,
   "id": "4237f5d1",
   "metadata": {},
   "outputs": [],
   "source": [
    "import numpy as np\n",
    "import pandas as pd\n",
    "from pandas_profiling import ProfileReport"
   ]
  },
  {
   "cell_type": "code",
   "execution_count": 18,
   "id": "9823f4dd",
   "metadata": {},
   "outputs": [],
   "source": [
    "#data = pd.read_excel (r'Archivo_1_Datos_TS.xlsx')\n",
    "#data\n",
    "\n",
    "# Generate the profile report\n",
    "#data_report = ProfileReport(data, title=\"Pandas Profiling Report\")"
   ]
  },
  {
   "cell_type": "code",
   "execution_count": 19,
   "id": "a8e85445",
   "metadata": {},
   "outputs": [
    {
     "data": {
      "application/vnd.jupyter.widget-view+json": {
       "model_id": "614d08eeaa134f98bc1d2f3388b2be30",
       "version_major": 2,
       "version_minor": 0
      },
      "text/plain": [
       "Summarize dataset:   0%|          | 0/5 [00:00<?, ?it/s]"
      ]
     },
     "metadata": {},
     "output_type": "display_data"
    },
    {
     "data": {
      "application/vnd.jupyter.widget-view+json": {
       "model_id": "c809baf3275d42f4b8c9986baab0e55a",
       "version_major": 2,
       "version_minor": 0
      },
      "text/plain": [
       "Generate report structure:   0%|          | 0/1 [00:00<?, ?it/s]"
      ]
     },
     "metadata": {},
     "output_type": "display_data"
    },
    {
     "data": {
      "application/vnd.jupyter.widget-view+json": {
       "model_id": "",
       "version_major": 2,
       "version_minor": 0
      },
      "text/plain": [
       "Render widgets:   0%|          | 0/1 [00:00<?, ?it/s]"
      ]
     },
     "metadata": {},
     "output_type": "display_data"
    },
    {
     "data": {
      "application/vnd.jupyter.widget-view+json": {
       "model_id": "0d2e86febd104cec9e6c231dba408146",
       "version_major": 2,
       "version_minor": 0
      },
      "text/plain": [
       "VBox(children=(Tab(children=(Tab(children=(GridBox(children=(VBox(children=(GridspecLayout(children=(HTML(valu…"
      ]
     },
     "metadata": {},
     "output_type": "display_data"
    }
   ],
   "source": [
    "#data_report.to_widgets()"
   ]
  },
  {
   "cell_type": "code",
   "execution_count": 6,
   "id": "23673ecd",
   "metadata": {},
   "outputs": [
    {
     "data": {
      "text/html": [
       "<div>\n",
       "<style scoped>\n",
       "    .dataframe tbody tr th:only-of-type {\n",
       "        vertical-align: middle;\n",
       "    }\n",
       "\n",
       "    .dataframe tbody tr th {\n",
       "        vertical-align: top;\n",
       "    }\n",
       "\n",
       "    .dataframe thead th {\n",
       "        text-align: right;\n",
       "    }\n",
       "</style>\n",
       "<table border=\"1\" class=\"dataframe\">\n",
       "  <thead>\n",
       "    <tr style=\"text-align: right;\">\n",
       "      <th></th>\n",
       "      <th>Fecha</th>\n",
       "      <th>Frecuencia.Llamada075</th>\n",
       "      <th>Gdl_Driving</th>\n",
       "      <th>Gdl_walking</th>\n",
       "      <th>Gdl_Driving.1</th>\n",
       "      <th>Mexico_transit</th>\n",
       "      <th>Mexico_walking</th>\n",
       "      <th>confirmado.estatal</th>\n",
       "      <th>confirmado.mediamovil.estatal</th>\n",
       "      <th>confirmado.nacional</th>\n",
       "      <th>...</th>\n",
       "      <th>defuncion.estatal</th>\n",
       "      <th>defuncion.mediamovil.estatal</th>\n",
       "      <th>defuncion.nacional</th>\n",
       "      <th>defuncion.mediamovil.nacional</th>\n",
       "      <th>H.acumulado.paciente.estatal</th>\n",
       "      <th>H.acumulado.paciente.positivo.estatal</th>\n",
       "      <th>H.total.paciente.estatal</th>\n",
       "      <th>H.total.paciente.positivo.estatal</th>\n",
       "      <th>Porcentaje.ocupacion.cama.paciente</th>\n",
       "      <th>Porcentaje.ocupacion.cama.paciente.positivo</th>\n",
       "    </tr>\n",
       "  </thead>\n",
       "  <tbody>\n",
       "    <tr>\n",
       "      <th>0</th>\n",
       "      <td>2020-02-18</td>\n",
       "      <td>0.0</td>\n",
       "      <td>112.87</td>\n",
       "      <td>106.12</td>\n",
       "      <td>104.79</td>\n",
       "      <td>103.43</td>\n",
       "      <td>110.90</td>\n",
       "      <td>0.0</td>\n",
       "      <td>0.0</td>\n",
       "      <td>0.0</td>\n",
       "      <td>...</td>\n",
       "      <td>0.0</td>\n",
       "      <td>0.0</td>\n",
       "      <td>0.0</td>\n",
       "      <td>0.0</td>\n",
       "      <td>0.0</td>\n",
       "      <td>0.0</td>\n",
       "      <td>0.0</td>\n",
       "      <td>0.0</td>\n",
       "      <td>0.0</td>\n",
       "      <td>0.0</td>\n",
       "    </tr>\n",
       "    <tr>\n",
       "      <th>1</th>\n",
       "      <td>2020-02-19</td>\n",
       "      <td>0.0</td>\n",
       "      <td>114.68</td>\n",
       "      <td>109.26</td>\n",
       "      <td>106.32</td>\n",
       "      <td>105.22</td>\n",
       "      <td>114.69</td>\n",
       "      <td>0.0</td>\n",
       "      <td>0.0</td>\n",
       "      <td>1.0</td>\n",
       "      <td>...</td>\n",
       "      <td>0.0</td>\n",
       "      <td>0.0</td>\n",
       "      <td>0.0</td>\n",
       "      <td>0.0</td>\n",
       "      <td>0.0</td>\n",
       "      <td>0.0</td>\n",
       "      <td>0.0</td>\n",
       "      <td>0.0</td>\n",
       "      <td>0.0</td>\n",
       "      <td>0.0</td>\n",
       "    </tr>\n",
       "    <tr>\n",
       "      <th>2</th>\n",
       "      <td>2020-02-20</td>\n",
       "      <td>0.0</td>\n",
       "      <td>121.00</td>\n",
       "      <td>116.65</td>\n",
       "      <td>114.00</td>\n",
       "      <td>108.35</td>\n",
       "      <td>126.98</td>\n",
       "      <td>0.0</td>\n",
       "      <td>0.0</td>\n",
       "      <td>0.0</td>\n",
       "      <td>...</td>\n",
       "      <td>0.0</td>\n",
       "      <td>0.0</td>\n",
       "      <td>0.0</td>\n",
       "      <td>0.0</td>\n",
       "      <td>0.0</td>\n",
       "      <td>0.0</td>\n",
       "      <td>0.0</td>\n",
       "      <td>0.0</td>\n",
       "      <td>0.0</td>\n",
       "      <td>0.0</td>\n",
       "    </tr>\n",
       "    <tr>\n",
       "      <th>3</th>\n",
       "      <td>2020-02-21</td>\n",
       "      <td>0.0</td>\n",
       "      <td>139.85</td>\n",
       "      <td>133.23</td>\n",
       "      <td>144.42</td>\n",
       "      <td>129.08</td>\n",
       "      <td>162.30</td>\n",
       "      <td>0.0</td>\n",
       "      <td>0.0</td>\n",
       "      <td>0.0</td>\n",
       "      <td>...</td>\n",
       "      <td>0.0</td>\n",
       "      <td>0.0</td>\n",
       "      <td>0.0</td>\n",
       "      <td>0.0</td>\n",
       "      <td>0.0</td>\n",
       "      <td>0.0</td>\n",
       "      <td>0.0</td>\n",
       "      <td>0.0</td>\n",
       "      <td>0.0</td>\n",
       "      <td>0.0</td>\n",
       "    </tr>\n",
       "    <tr>\n",
       "      <th>4</th>\n",
       "      <td>2020-02-22</td>\n",
       "      <td>0.0</td>\n",
       "      <td>122.91</td>\n",
       "      <td>126.61</td>\n",
       "      <td>142.65</td>\n",
       "      <td>123.57</td>\n",
       "      <td>169.93</td>\n",
       "      <td>0.0</td>\n",
       "      <td>0.0</td>\n",
       "      <td>0.0</td>\n",
       "      <td>...</td>\n",
       "      <td>0.0</td>\n",
       "      <td>0.0</td>\n",
       "      <td>0.0</td>\n",
       "      <td>0.0</td>\n",
       "      <td>0.0</td>\n",
       "      <td>0.0</td>\n",
       "      <td>0.0</td>\n",
       "      <td>0.0</td>\n",
       "      <td>0.0</td>\n",
       "      <td>0.0</td>\n",
       "    </tr>\n",
       "    <tr>\n",
       "      <th>...</th>\n",
       "      <td>...</td>\n",
       "      <td>...</td>\n",
       "      <td>...</td>\n",
       "      <td>...</td>\n",
       "      <td>...</td>\n",
       "      <td>...</td>\n",
       "      <td>...</td>\n",
       "      <td>...</td>\n",
       "      <td>...</td>\n",
       "      <td>...</td>\n",
       "      <td>...</td>\n",
       "      <td>...</td>\n",
       "      <td>...</td>\n",
       "      <td>...</td>\n",
       "      <td>...</td>\n",
       "      <td>...</td>\n",
       "      <td>...</td>\n",
       "      <td>...</td>\n",
       "      <td>...</td>\n",
       "      <td>...</td>\n",
       "      <td>...</td>\n",
       "    </tr>\n",
       "    <tr>\n",
       "      <th>596</th>\n",
       "      <td>NaT</td>\n",
       "      <td>NaN</td>\n",
       "      <td>115.07</td>\n",
       "      <td>139.96</td>\n",
       "      <td>90.71</td>\n",
       "      <td>69.79</td>\n",
       "      <td>91.00</td>\n",
       "      <td>NaN</td>\n",
       "      <td>NaN</td>\n",
       "      <td>NaN</td>\n",
       "      <td>...</td>\n",
       "      <td>NaN</td>\n",
       "      <td>NaN</td>\n",
       "      <td>NaN</td>\n",
       "      <td>NaN</td>\n",
       "      <td>NaN</td>\n",
       "      <td>NaN</td>\n",
       "      <td>NaN</td>\n",
       "      <td>NaN</td>\n",
       "      <td>NaN</td>\n",
       "      <td>NaN</td>\n",
       "    </tr>\n",
       "    <tr>\n",
       "      <th>597</th>\n",
       "      <td>NaT</td>\n",
       "      <td>NaN</td>\n",
       "      <td>121.24</td>\n",
       "      <td>159.76</td>\n",
       "      <td>97.23</td>\n",
       "      <td>71.62</td>\n",
       "      <td>100.63</td>\n",
       "      <td>NaN</td>\n",
       "      <td>NaN</td>\n",
       "      <td>NaN</td>\n",
       "      <td>...</td>\n",
       "      <td>NaN</td>\n",
       "      <td>NaN</td>\n",
       "      <td>NaN</td>\n",
       "      <td>NaN</td>\n",
       "      <td>NaN</td>\n",
       "      <td>NaN</td>\n",
       "      <td>NaN</td>\n",
       "      <td>NaN</td>\n",
       "      <td>NaN</td>\n",
       "      <td>NaN</td>\n",
       "    </tr>\n",
       "    <tr>\n",
       "      <th>598</th>\n",
       "      <td>NaT</td>\n",
       "      <td>NaN</td>\n",
       "      <td>151.24</td>\n",
       "      <td>195.50</td>\n",
       "      <td>118.74</td>\n",
       "      <td>78.03</td>\n",
       "      <td>120.44</td>\n",
       "      <td>NaN</td>\n",
       "      <td>NaN</td>\n",
       "      <td>NaN</td>\n",
       "      <td>...</td>\n",
       "      <td>NaN</td>\n",
       "      <td>NaN</td>\n",
       "      <td>NaN</td>\n",
       "      <td>NaN</td>\n",
       "      <td>NaN</td>\n",
       "      <td>NaN</td>\n",
       "      <td>NaN</td>\n",
       "      <td>NaN</td>\n",
       "      <td>NaN</td>\n",
       "      <td>NaN</td>\n",
       "    </tr>\n",
       "    <tr>\n",
       "      <th>599</th>\n",
       "      <td>NaT</td>\n",
       "      <td>NaN</td>\n",
       "      <td>133.51</td>\n",
       "      <td>176.18</td>\n",
       "      <td>117.05</td>\n",
       "      <td>70.81</td>\n",
       "      <td>136.00</td>\n",
       "      <td>NaN</td>\n",
       "      <td>NaN</td>\n",
       "      <td>NaN</td>\n",
       "      <td>...</td>\n",
       "      <td>NaN</td>\n",
       "      <td>NaN</td>\n",
       "      <td>NaN</td>\n",
       "      <td>NaN</td>\n",
       "      <td>NaN</td>\n",
       "      <td>NaN</td>\n",
       "      <td>NaN</td>\n",
       "      <td>NaN</td>\n",
       "      <td>NaN</td>\n",
       "      <td>NaN</td>\n",
       "    </tr>\n",
       "    <tr>\n",
       "      <th>600</th>\n",
       "      <td>NaT</td>\n",
       "      <td>NaN</td>\n",
       "      <td>85.10</td>\n",
       "      <td>116.73</td>\n",
       "      <td>81.03</td>\n",
       "      <td>52.41</td>\n",
       "      <td>94.71</td>\n",
       "      <td>NaN</td>\n",
       "      <td>NaN</td>\n",
       "      <td>NaN</td>\n",
       "      <td>...</td>\n",
       "      <td>NaN</td>\n",
       "      <td>NaN</td>\n",
       "      <td>NaN</td>\n",
       "      <td>NaN</td>\n",
       "      <td>NaN</td>\n",
       "      <td>NaN</td>\n",
       "      <td>NaN</td>\n",
       "      <td>NaN</td>\n",
       "      <td>NaN</td>\n",
       "      <td>NaN</td>\n",
       "    </tr>\n",
       "  </tbody>\n",
       "</table>\n",
       "<p>601 rows × 26 columns</p>\n",
       "</div>"
      ],
      "text/plain": [
       "         Fecha  Frecuencia.Llamada075  Gdl_Driving  Gdl_walking  \\\n",
       "0   2020-02-18                    0.0       112.87       106.12   \n",
       "1   2020-02-19                    0.0       114.68       109.26   \n",
       "2   2020-02-20                    0.0       121.00       116.65   \n",
       "3   2020-02-21                    0.0       139.85       133.23   \n",
       "4   2020-02-22                    0.0       122.91       126.61   \n",
       "..         ...                    ...          ...          ...   \n",
       "596        NaT                    NaN       115.07       139.96   \n",
       "597        NaT                    NaN       121.24       159.76   \n",
       "598        NaT                    NaN       151.24       195.50   \n",
       "599        NaT                    NaN       133.51       176.18   \n",
       "600        NaT                    NaN        85.10       116.73   \n",
       "\n",
       "     Gdl_Driving.1  Mexico_transit  Mexico_walking  confirmado.estatal  \\\n",
       "0           104.79          103.43          110.90                 0.0   \n",
       "1           106.32          105.22          114.69                 0.0   \n",
       "2           114.00          108.35          126.98                 0.0   \n",
       "3           144.42          129.08          162.30                 0.0   \n",
       "4           142.65          123.57          169.93                 0.0   \n",
       "..             ...             ...             ...                 ...   \n",
       "596          90.71           69.79           91.00                 NaN   \n",
       "597          97.23           71.62          100.63                 NaN   \n",
       "598         118.74           78.03          120.44                 NaN   \n",
       "599         117.05           70.81          136.00                 NaN   \n",
       "600          81.03           52.41           94.71                 NaN   \n",
       "\n",
       "     confirmado.mediamovil.estatal  confirmado.nacional  ...  \\\n",
       "0                              0.0                  0.0  ...   \n",
       "1                              0.0                  1.0  ...   \n",
       "2                              0.0                  0.0  ...   \n",
       "3                              0.0                  0.0  ...   \n",
       "4                              0.0                  0.0  ...   \n",
       "..                             ...                  ...  ...   \n",
       "596                            NaN                  NaN  ...   \n",
       "597                            NaN                  NaN  ...   \n",
       "598                            NaN                  NaN  ...   \n",
       "599                            NaN                  NaN  ...   \n",
       "600                            NaN                  NaN  ...   \n",
       "\n",
       "     defuncion.estatal  defuncion.mediamovil.estatal  defuncion.nacional  \\\n",
       "0                  0.0                           0.0                 0.0   \n",
       "1                  0.0                           0.0                 0.0   \n",
       "2                  0.0                           0.0                 0.0   \n",
       "3                  0.0                           0.0                 0.0   \n",
       "4                  0.0                           0.0                 0.0   \n",
       "..                 ...                           ...                 ...   \n",
       "596                NaN                           NaN                 NaN   \n",
       "597                NaN                           NaN                 NaN   \n",
       "598                NaN                           NaN                 NaN   \n",
       "599                NaN                           NaN                 NaN   \n",
       "600                NaN                           NaN                 NaN   \n",
       "\n",
       "     defuncion.mediamovil.nacional  H.acumulado.paciente.estatal  \\\n",
       "0                              0.0                           0.0   \n",
       "1                              0.0                           0.0   \n",
       "2                              0.0                           0.0   \n",
       "3                              0.0                           0.0   \n",
       "4                              0.0                           0.0   \n",
       "..                             ...                           ...   \n",
       "596                            NaN                           NaN   \n",
       "597                            NaN                           NaN   \n",
       "598                            NaN                           NaN   \n",
       "599                            NaN                           NaN   \n",
       "600                            NaN                           NaN   \n",
       "\n",
       "     H.acumulado.paciente.positivo.estatal  H.total.paciente.estatal  \\\n",
       "0                                      0.0                       0.0   \n",
       "1                                      0.0                       0.0   \n",
       "2                                      0.0                       0.0   \n",
       "3                                      0.0                       0.0   \n",
       "4                                      0.0                       0.0   \n",
       "..                                     ...                       ...   \n",
       "596                                    NaN                       NaN   \n",
       "597                                    NaN                       NaN   \n",
       "598                                    NaN                       NaN   \n",
       "599                                    NaN                       NaN   \n",
       "600                                    NaN                       NaN   \n",
       "\n",
       "     H.total.paciente.positivo.estatal  Porcentaje.ocupacion.cama.paciente  \\\n",
       "0                                  0.0                                 0.0   \n",
       "1                                  0.0                                 0.0   \n",
       "2                                  0.0                                 0.0   \n",
       "3                                  0.0                                 0.0   \n",
       "4                                  0.0                                 0.0   \n",
       "..                                 ...                                 ...   \n",
       "596                                NaN                                 NaN   \n",
       "597                                NaN                                 NaN   \n",
       "598                                NaN                                 NaN   \n",
       "599                                NaN                                 NaN   \n",
       "600                                NaN                                 NaN   \n",
       "\n",
       "     Porcentaje.ocupacion.cama.paciente.positivo  \n",
       "0                                            0.0  \n",
       "1                                            0.0  \n",
       "2                                            0.0  \n",
       "3                                            0.0  \n",
       "4                                            0.0  \n",
       "..                                           ...  \n",
       "596                                          NaN  \n",
       "597                                          NaN  \n",
       "598                                          NaN  \n",
       "599                                          NaN  \n",
       "600                                          NaN  \n",
       "\n",
       "[601 rows x 26 columns]"
      ]
     },
     "execution_count": 6,
     "metadata": {},
     "output_type": "execute_result"
    }
   ],
   "source": [
    "data = pd.read_excel (r'Archivo_1_Datos_TS.xlsx')\n",
    "data"
   ]
  },
  {
   "cell_type": "code",
   "execution_count": 2,
   "id": "d01fc401",
   "metadata": {},
   "outputs": [],
   "source": [
    "# Generate the profile report explore deeper\n",
    "\n",
    "data_report = ProfileReport(data, title=\"Pandas Profiling Report\", explorative=True)"
   ]
  },
  {
   "cell_type": "code",
   "execution_count": 3,
   "id": "2f863ba7",
   "metadata": {},
   "outputs": [
    {
     "data": {
      "application/vnd.jupyter.widget-view+json": {
       "model_id": "5b85d7dba12f44588652e97a3de4e232",
       "version_major": 2,
       "version_minor": 0
      },
      "text/plain": [
       "Summarize dataset:   0%|          | 0/5 [00:00<?, ?it/s]"
      ]
     },
     "metadata": {},
     "output_type": "display_data"
    },
    {
     "data": {
      "application/vnd.jupyter.widget-view+json": {
       "model_id": "f7a972a736984ec39b3cd6f2166f41b8",
       "version_major": 2,
       "version_minor": 0
      },
      "text/plain": [
       "Generate report structure:   0%|          | 0/1 [00:00<?, ?it/s]"
      ]
     },
     "metadata": {},
     "output_type": "display_data"
    },
    {
     "data": {
      "application/vnd.jupyter.widget-view+json": {
       "model_id": "",
       "version_major": 2,
       "version_minor": 0
      },
      "text/plain": [
       "Render widgets:   0%|          | 0/1 [00:00<?, ?it/s]"
      ]
     },
     "metadata": {},
     "output_type": "display_data"
    },
    {
     "data": {
      "application/vnd.jupyter.widget-view+json": {
       "model_id": "76eb671aaaab4d5988a7f7a44d3d6597",
       "version_major": 2,
       "version_minor": 0
      },
      "text/plain": [
       "VBox(children=(Tab(children=(Tab(children=(GridBox(children=(VBox(children=(GridspecLayout(children=(HTML(valu…"
      ]
     },
     "metadata": {},
     "output_type": "display_data"
    }
   ],
   "source": [
    "data_report.to_widgets()"
   ]
  },
  {
   "cell_type": "code",
   "execution_count": 4,
   "id": "71f9c51e",
   "metadata": {},
   "outputs": [
    {
     "data": {
      "application/vnd.jupyter.widget-view+json": {
       "model_id": "1060431a8ed34b6fb4ce4c59e841ba86",
       "version_major": 2,
       "version_minor": 0
      },
      "text/plain": [
       "Render HTML:   0%|          | 0/1 [00:00<?, ?it/s]"
      ]
     },
     "metadata": {},
     "output_type": "display_data"
    },
    {
     "data": {
      "application/vnd.jupyter.widget-view+json": {
       "model_id": "1a7ec1fdab1544bf8224a1fe42fafd93",
       "version_major": 2,
       "version_minor": 0
      },
      "text/plain": [
       "Export report to file:   0%|          | 0/1 [00:00<?, ?it/s]"
      ]
     },
     "metadata": {},
     "output_type": "display_data"
    }
   ],
   "source": [
    "# creating and saving the report in html\n",
    "data_report.to_file(\"report_TS.html\")"
   ]
  },
  {
   "cell_type": "code",
   "execution_count": null,
   "id": "063edb2a",
   "metadata": {},
   "outputs": [],
   "source": []
  }
 ],
 "metadata": {
  "kernelspec": {
   "display_name": "Python 3 (ipykernel)",
   "language": "python",
   "name": "python3"
  },
  "language_info": {
   "codemirror_mode": {
    "name": "ipython",
    "version": 3
   },
   "file_extension": ".py",
   "mimetype": "text/x-python",
   "name": "python",
   "nbconvert_exporter": "python",
   "pygments_lexer": "ipython3",
   "version": "3.8.8"
  }
 },
 "nbformat": 4,
 "nbformat_minor": 5
}
